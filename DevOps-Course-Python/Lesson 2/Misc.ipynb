{
 "cells": [
  {
   "cell_type": "code",
   "execution_count": 5,
   "id": "ea6bed71",
   "metadata": {},
   "outputs": [
    {
     "name": "stdout",
     "output_type": "stream",
     "text": [
      "['c', 'a', 't', 'd', 'o', 'g', 'r', 'b', 'i']\n"
     ]
    }
   ],
   "source": [
    "word_list = ['cat','dog','rabbit']\n",
    "letter_list = []\n",
    "for a_word in word_list:\n",
    "    for a_letter in a_word:\n",
    "        if a_letter not in letter_list:\n",
    "            letter_list.append(a_letter)\n",
    "print(letter_list)"
   ]
  },
  {
   "cell_type": "code",
   "execution_count": 12,
   "id": "8e8fa316",
   "metadata": {},
   "outputs": [
    {
     "name": "stdout",
     "output_type": "stream",
     "text": [
      "['c', 'a', 't', 'd', 'o', 'g', 'r', 'a', 'b', 'b', 'i', 't']\n"
     ]
    }
   ],
   "source": [
    "# List comprehensions\n",
    "word_list = ['cat','dog','rabbit']\n",
    "letter_list = []\n",
    "[letter_list.append(a_letter) for a_word in word_list for a_letter in a_word]\n",
    "print(letter_list)"
   ]
  },
  {
   "cell_type": "code",
   "execution_count": 13,
   "id": "fddec0f1",
   "metadata": {},
   "outputs": [
    {
     "name": "stdout",
     "output_type": "stream",
     "text": [
      "['c', 'a', 't', 'd', 'o', 'g', 'r', 'b', 'i']\n"
     ]
    }
   ],
   "source": [
    "word_list = ['cat', 'dog', 'rabbit']\n",
    "letter_list = []\n",
    "[letter_list.append(letter) for word in word_list for letter in word if letter not in letter_list]\n",
    "print(letter_list)\n"
   ]
  },
  {
   "cell_type": "code",
   "execution_count": null,
   "id": "2ad225c1",
   "metadata": {},
   "outputs": [],
   "source": []
  }
 ],
 "metadata": {
  "kernelspec": {
   "display_name": "Python 3 (ipykernel)",
   "language": "python",
   "name": "python3"
  },
  "language_info": {
   "codemirror_mode": {
    "name": "ipython",
    "version": 3
   },
   "file_extension": ".py",
   "mimetype": "text/x-python",
   "name": "python",
   "nbconvert_exporter": "python",
   "pygments_lexer": "ipython3",
   "version": "3.11.4"
  }
 },
 "nbformat": 4,
 "nbformat_minor": 5
}
