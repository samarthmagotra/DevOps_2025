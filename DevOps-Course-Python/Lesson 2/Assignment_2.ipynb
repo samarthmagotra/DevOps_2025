{
 "cells": [
  {
   "cell_type": "code",
   "execution_count": 1,
   "id": "7973b825",
   "metadata": {},
   "outputs": [
    {
     "name": "stdout",
     "output_type": "stream",
     "text": [
      "400\n",
      "498\n",
      "304\n",
      "22\n",
      "446\n",
      "424\n",
      "12\n",
      "54\n",
      "124\n",
      "456\n",
      "56\n",
      "12\n"
     ]
    }
   ],
   "source": [
    "#Loop through and print out all even numbers, skip numbers higher than 500\n",
    "\n",
    "numbers = [95,951, 400, 403, 498, 304,22, 446, 424, 998,123, 455, 12, 3, 54, 567, 89,800, 700,753, 734,124, 223,345,456,789,56,983,43,55,12,33,534]\n",
    "for n in numbers:\n",
    "    if n%2==0 and n<=500:\n",
    "        print(n)"
   ]
  },
  {
   "cell_type": "code",
   "execution_count": 5,
   "id": "65a6ee07",
   "metadata": {},
   "outputs": [
    {
     "name": "stdout",
     "output_type": "stream",
     "text": [
      "Enter value for X:33\n",
      "Enter value for Y:3\n",
      "BIG\n"
     ]
    }
   ],
   "source": [
    "# A.\n",
    "#1 Create two numeric variables named X and Y.\n",
    "#2. Print the word “BIG” if the value of X is bigger than Y.\n",
    "#3. Print the word “small” if the value of X is smaller than Y.\n",
    "\n",
    "X = int(input('Enter value for X:'))\n",
    "Y = int(input('Enter value for Y:'))\n",
    "if X>=Y:\n",
    "    print('BIG')\n",
    "else:\n",
    "    print('small')"
   ]
  },
  {
   "cell_type": "code",
   "execution_count": 6,
   "id": "beffd2a5",
   "metadata": {},
   "outputs": [
    {
     "name": "stdout",
     "output_type": "stream",
     "text": [
      "0\n",
      "1\n",
      "2\n",
      "3\n",
      "4\n"
     ]
    }
   ],
   "source": [
    "# B.\n",
    "#1. Run a “for” loop 5 times.\n",
    "#2. Print the iteration number every time.\n",
    "\n",
    "for i in range(5):\n",
    "    print(i)"
   ]
  },
  {
   "cell_type": "code",
   "execution_count": 10,
   "id": "fb362304",
   "metadata": {},
   "outputs": [
    {
     "name": "stdout",
     "output_type": "stream",
     "text": [
      "Enter the value for season between 1-4:3\n",
      "Spring\n"
     ]
    }
   ],
   "source": [
    "# C.\n",
    "#1. Create a variable and initialize it with a number 1-4.\n",
    "#2. Create 4 conditions (if-elif) which will check the variable value.\n",
    "#3. Print a different season name for each number:\n",
    "\n",
    "season = int(input(\"Enter the value for season between 1-4:\"))\n",
    "if season == 1:\n",
    "    print('Winter')\n",
    "elif season == 2:\n",
    "    print('Summer')\n",
    "elif season == 3:\n",
    "    print('Spring')\n",
    "elif season == 4:\n",
    "    print('Fall')\n",
    "else: print(\"Incorrect season value, please try again\")"
   ]
  },
  {
   "cell_type": "code",
   "execution_count": 12,
   "id": "f312641a",
   "metadata": {},
   "outputs": [
    {
     "name": "stdout",
     "output_type": "stream",
     "text": [
      "1\n",
      "2\n",
      "3\n",
      "4\n",
      "5\n",
      "6\n",
      "7\n",
      "8\n",
      "9\n",
      "10\n"
     ]
    }
   ],
   "source": [
    "#D.\n",
    "#1. How many times will the following loop run?\n",
    "#2. What will be printed last?\n",
    "count = 1\n",
    "while count<11:\n",
    "    print(count)\n",
    "    count = count+1"
   ]
  },
  {
   "cell_type": "code",
   "execution_count": 13,
   "id": "3449d3d9",
   "metadata": {},
   "outputs": [
    {
     "name": "stdout",
     "output_type": "stream",
     "text": [
      "35 M 2000 True 302\n",
      "2035\n"
     ]
    }
   ],
   "source": [
    "#E.\n",
    "##Write a program with variables holding the following:\n",
    "#1. Your age.\n",
    "#2. First letter of your last name.\n",
    "#3. Current shekels-dollar currency.\n",
    "#4. Did you flew abroad (true/false)\n",
    "#5. Your apartment number.\n",
    "#● Print all variables.\n",
    "#● Add the currency(3) to your age(1), and check the result.\n",
    "\n",
    "Age = 35\n",
    "Surname_Letter = 'M'\n",
    "Currency = 2000\n",
    "Abroad = True\n",
    "Apartment = 302\n",
    "print(Age, Surname_Letter, Currency, Abroad, Apartment)\n",
    "print(Currency+Age)"
   ]
  },
  {
   "cell_type": "code",
   "execution_count": 14,
   "id": "b2533232",
   "metadata": {},
   "outputs": [
    {
     "name": "stdout",
     "output_type": "stream",
     "text": [
      "Enter your phone number:9886910908\n",
      "phone number 9886910908\n"
     ]
    }
   ],
   "source": [
    "#F.\n",
    "#Create a program which uses input with the following:\n",
    "#1. Ask user for his phone number\n",
    "#2. Print the words “phone number” and the phone number the user entered.\n",
    "\n",
    "phone_number = int(input('Enter your phone number:'))\n",
    "print(f'phone number {phone_number}')"
   ]
  },
  {
   "cell_type": "code",
   "execution_count": 15,
   "id": "49c03f91",
   "metadata": {},
   "outputs": [
    {
     "name": "stdout",
     "output_type": "stream",
     "text": [
      "hello\n",
      "8.2\n"
     ]
    }
   ],
   "source": [
    "#G.\n",
    "#Write a program with the following:\n",
    "#1. Function named printHello() that prints the word “hello”.\n",
    "#2. Function named calculate() which adds 5+3.2 and prints the result.\n",
    "\n",
    "def printHello():\n",
    "    print('hello')\n",
    "    \n",
    "def calculate():\n",
    "    print(5+3.2)\n",
    "    \n",
    "printHello()\n",
    "calculate()\n"
   ]
  },
  {
   "cell_type": "code",
   "execution_count": 19,
   "id": "460db9c0",
   "metadata": {},
   "outputs": [
    {
     "name": "stdout",
     "output_type": "stream",
     "text": [
      "Samarth\n",
      "17.0\n"
     ]
    }
   ],
   "source": [
    "#H.\n",
    "#Write a program with the following:\n",
    "\n",
    "#1. Function that receive a name as an argument and prints it.\n",
    "#2. Function that receive a number, divide it by 2, and prints the result.\n",
    "\n",
    "def name(name):\n",
    "    print(name)\n",
    "\n",
    "def number(number):\n",
    "    print(number/2)\n",
    "\n",
    "name('Samarth')\n",
    "number(34)"
   ]
  },
  {
   "cell_type": "code",
   "execution_count": 3,
   "id": "3889ba94",
   "metadata": {},
   "outputs": [
    {
     "name": "stdout",
     "output_type": "stream",
     "text": [
      "13 samarth magotra\n"
     ]
    }
   ],
   "source": [
    "#I.\n",
    "#Write a program with the following:\n",
    "#1. Function that receive two numbers, add them, and return the sum.\n",
    "#2. Function that receive two Strings, add space between them, and return one spaced string.\n",
    "\n",
    "def add_numbers(x,y):\n",
    "    return x+y\n",
    "\n",
    "def string(s1,s2):\n",
    "    return s1+' '+s2\n",
    "\n",
    "sum_ = add_numbers(5,8)\n",
    "name = string('samarth','magotra')\n",
    "print(sum_, name)"
   ]
  },
  {
   "cell_type": "code",
   "execution_count": 4,
   "id": "33f2b9b5",
   "metadata": {},
   "outputs": [
    {
     "name": "stdout",
     "output_type": "stream",
     "text": [
      "4\n",
      "5\n",
      "6\n"
     ]
    }
   ],
   "source": [
    "#J.\n",
    "#Create a program with the following:\n",
    "#1. Create a list with 3 numbers\n",
    "#2. Iterate through the list to print all elements.\n",
    "lst = [4,5,6]\n",
    "for i in lst:\n",
    "    print(i)"
   ]
  },
  {
   "cell_type": "code",
   "execution_count": 11,
   "id": "f64fe27c",
   "metadata": {},
   "outputs": [
    {
     "name": "stdout",
     "output_type": "stream",
     "text": [
      "[3, 4, 5, 6, 7, 8]\n"
     ]
    },
    {
     "data": {
      "text/plain": [
       "33"
      ]
     },
     "execution_count": 11,
     "metadata": {},
     "output_type": "execute_result"
    }
   ],
   "source": [
    "#K.\n",
    "#Create a program which will get a list of numbers and prints the sum of all items.\n",
    "\n",
    "def sum_of_list(lst: list) -> int:\n",
    "    print(lst)\n",
    "    total = 0\n",
    "    for i in lst:\n",
    "        total = total + int(i)\n",
    "        \n",
    "    return total\n",
    "\n",
    "sum_of_list([3,4,5,6,7,8])"
   ]
  },
  {
   "cell_type": "code",
   "execution_count": 22,
   "id": "61a44933",
   "metadata": {},
   "outputs": [
    {
     "name": "stdout",
     "output_type": "stream",
     "text": [
      "brand Ford\n",
      "model Mustang\n",
      "year 1964\n",
      "1 abc\n",
      "2 fng\n",
      "10 ff\n",
      "a gh\n"
     ]
    }
   ],
   "source": [
    "#L.\n",
    "#Write a Python program to iterate over dictionaries and prints all keys using for loop.\n",
    "\n",
    "def itr_over_dict(dictionary: dict):\n",
    "    for key,value in dictionary.items():\n",
    "        print(key,value)\n",
    "    \n",
    "itr_over_dict({\n",
    "  \"brand\": \"Ford\",\n",
    "  \"model\": \"Mustang\",\n",
    "  \"year\": 1964\n",
    "})\n",
    "itr_over_dict({'1':'abc', '2':'fng', '10':'ff', 'a':'gh'})"
   ]
  },
  {
   "cell_type": "code",
   "execution_count": 28,
   "id": "16fd32c3",
   "metadata": {},
   "outputs": [
    {
     "name": "stdout",
     "output_type": "stream",
     "text": [
      "*\n",
      "**\n",
      "***\n",
      "****\n",
      "*****\n"
     ]
    }
   ],
   "source": [
    "#Create a nested for loop (loop inside another loop) to create a pyramid shape:\n",
    "for i in range(1,6):\n",
    "    print(i*'*')\n",
    "   "
   ]
  },
  {
   "cell_type": "code",
   "execution_count": 34,
   "id": "7d521222",
   "metadata": {},
   "outputs": [
    {
     "name": "stdout",
     "output_type": "stream",
     "text": [
      "Enter the number:67\n"
     ]
    },
    {
     "data": {
      "text/plain": [
       "13"
      ]
     },
     "execution_count": 34,
     "metadata": {},
     "output_type": "execute_result"
    }
   ],
   "source": [
    "#O.\n",
    "#Write a program with the following:\n",
    "#1. Function that gets a number from the user (using input).\n",
    "#2. Function that receive the number from the first method, and computes the sum of the\n",
    "#digits the integer (e.g. 25 = 7, 2+5=7)\n",
    "\n",
    "def user_input():\n",
    "    number = input('Enter the number:')\n",
    "    return number \n",
    "    \n",
    "def compute_sum():\n",
    "    number = user_input()\n",
    "    s = 0\n",
    "    for i in number:\n",
    "        s = s+int(i)\n",
    "    return s\n",
    "        \n",
    "compute_sum()"
   ]
  },
  {
   "cell_type": "code",
   "execution_count": 38,
   "id": "94b6ff8f",
   "metadata": {},
   "outputs": [
    {
     "data": {
      "text/plain": [
       "'hello'"
      ]
     },
     "execution_count": 38,
     "metadata": {},
     "output_type": "execute_result"
    }
   ],
   "source": [
    "#P.\n",
    "#Write a Python program to convert the below tuple to a string:\n",
    "#tup = (‘h’, ‘e’, ‘l’, ‘l’, ‘o’)\n",
    "\n",
    "def tup_to_string(tup: tuple) -> str:\n",
    "    return ''.join(tup)\n",
    "\n",
    "tup_to_string(('h','e','l','l','o'))\n",
    "#type(tup_to_string(('h','e','l','l','o')))\n",
    "    "
   ]
  },
  {
   "cell_type": "code",
   "execution_count": 46,
   "id": "547aa167",
   "metadata": {},
   "outputs": [
    {
     "data": {
      "text/plain": [
       "2"
      ]
     },
     "execution_count": 46,
     "metadata": {},
     "output_type": "execute_result"
    }
   ],
   "source": [
    "#Q: Write a Python program to get the smallest number from a list.\n",
    "\n",
    "def smallest_in_list(lst: list):\n",
    "    lst.sort()\n",
    "    return lst[0]\n",
    "        \n",
    "smallest_in_list([3,4,6,11,2])"
   ]
  },
  {
   "cell_type": "code",
   "execution_count": null,
   "id": "b88c20ce",
   "metadata": {},
   "outputs": [],
   "source": []
  }
 ],
 "metadata": {
  "kernelspec": {
   "display_name": "Python 3 (ipykernel)",
   "language": "python",
   "name": "python3"
  },
  "language_info": {
   "codemirror_mode": {
    "name": "ipython",
    "version": 3
   },
   "file_extension": ".py",
   "mimetype": "text/x-python",
   "name": "python",
   "nbconvert_exporter": "python",
   "pygments_lexer": "ipython3",
   "version": "3.11.4"
  }
 },
 "nbformat": 4,
 "nbformat_minor": 5
}
